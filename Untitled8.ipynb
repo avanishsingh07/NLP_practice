{
  "nbformat": 4,
  "nbformat_minor": 0,
  "metadata": {
    "colab": {
      "name": "Untitled8.ipynb",
      "provenance": [],
      "collapsed_sections": []
    },
    "kernelspec": {
      "name": "python3",
      "display_name": "Python 3"
    },
    "language_info": {
      "name": "python"
    }
  },
  "cells": [
    {
      "cell_type": "markdown",
      "source": [
        "# ***Avanish***"
      ],
      "metadata": {
        "id": "OXotQCZj5bqZ"
      }
    },
    {
      "cell_type": "markdown",
      "source": [
        "Consider set of documents as D1 : I am Sam. D2 : Sam I am. D3 : I do not like green eggs and ham. D4 : I do not like them, Sam I am. a) Design a program for (k = 1)-shingles of D1 U D2U D3 U D4 : U is UNION b) Design a program for (k = 2)-shingles of D1 U D2U D3 U D4 : U is UNION c) Design a program for (k = 3)-Character shingles of D1 U D2 d) Design a program for (k = 4)-Character shingles of D1 U D2"
      ],
      "metadata": {
        "id": "ueHU6D0M5M9-"
      }
    },
    {
      "cell_type": "code",
      "source": [
        "from nltk.tokenize import word_tokenize"
      ],
      "metadata": {
        "id": "IUGBQdDI5V9b"
      },
      "execution_count": 1,
      "outputs": []
    },
    {
      "cell_type": "code",
      "source": [
        "D1 = \"I am Sam\"\n",
        "D2 = \"Sam I am\"\n",
        "D3 = \"I do not like green eggs and ham\"\n",
        "D4 = \"I do not like them, Sam I am\""
      ],
      "metadata": {
        "id": "2aFVf6975q8c"
      },
      "execution_count": 2,
      "outputs": []
    },
    {
      "cell_type": "code",
      "source": [
        "D1_tokens = set(word_tokenize(D1))\n",
        "D2_tokens = set(word_tokenize(D2))\n",
        "D3_tokens = set(word_tokenize(D3))\n",
        "D4_tokens = set(word_tokenize(D4))\n",
        "print(D1_tokens)\n",
        "print(D2_tokens)\n",
        "print(D3_tokens)\n",
        "print(D4_tokens)"
      ],
      "metadata": {
        "colab": {
          "base_uri": "https://localhost:8080/"
        },
        "id": "18eOgV0D5wa0",
        "outputId": "34abb31d-91ee-46bf-b3f6-8067751cde75"
      },
      "execution_count": 5,
      "outputs": [
        {
          "output_type": "stream",
          "name": "stdout",
          "text": [
            "{'I', 'Sam', 'am'}\n",
            "{'I', 'Sam', 'am'}\n",
            "{'eggs', 'and', 'green', 'do', 'ham', 'not', 'like', 'I'}\n",
            "{',', 'Sam', 'do', 'them', 'not', 'I', 'like', 'am'}\n"
          ]
        }
      ]
    },
    {
      "cell_type": "code",
      "source": [
        "#K=1 shingles of D1, D2, D3, D4\n",
        "D_tokens = D1_tokens.union(D2_tokens,D3_tokens,D4_tokens)\n",
        "\n",
        "print(D_tokens)"
      ],
      "metadata": {
        "colab": {
          "base_uri": "https://localhost:8080/"
        },
        "id": "sPu9J6Ot6H9J",
        "outputId": "26fc87e3-555e-496d-e6b3-c8e41767c0b3"
      },
      "execution_count": 6,
      "outputs": [
        {
          "output_type": "stream",
          "name": "stdout",
          "text": [
            "{'eggs', ',', 'and', 'green', 'Sam', 'do', 'ham', 'not', 'am', 'I', 'them', 'like'}\n"
          ]
        }
      ]
    },
    {
      "cell_type": "markdown",
      "source": [
        "k= 2 shingles for d1 U d2 U d3 U d4: U is union"
      ],
      "metadata": {
        "id": "lxqVthrd6XRa"
      }
    },
    {
      "cell_type": "code",
      "source": [
        "import nltk\n",
        "from nltk.util import bigrams"
      ],
      "metadata": {
        "id": "a9hHZ6iL6Z0G"
      },
      "execution_count": 7,
      "outputs": []
    },
    {
      "cell_type": "code",
      "source": [
        "import nltk\n",
        "from nltk.util import bigrams"
      ],
      "metadata": {
        "id": "cLrq6L8X6e0Z"
      },
      "execution_count": 8,
      "outputs": []
    },
    {
      "cell_type": "markdown",
      "source": [
        "k= 3 character shingles for d1 U d2: U is union"
      ],
      "metadata": {
        "id": "_2HocZAs6pxE"
      }
    },
    {
      "cell_type": "code",
      "source": [
        "trigrams_d1 = set(nltk.trigrams(D1))\n",
        "trigrams_d2 = set(nltk.trigrams(D2))\n",
        "\n",
        "trigrams = trigrams_d1.union(trigrams_d2)\n",
        "\n",
        "print(trigrams)"
      ],
      "metadata": {
        "colab": {
          "base_uri": "https://localhost:8080/"
        },
        "id": "7DfWr6pa6jXQ",
        "outputId": "b7b8a109-ca7b-403e-d962-cb19f6d8f7a1"
      },
      "execution_count": 9,
      "outputs": [
        {
          "output_type": "stream",
          "name": "stdout",
          "text": [
            "{('S', 'a', 'm'), ('I', ' ', 'a'), ('a', 'm', ' '), (' ', 'I', ' '), (' ', 'a', 'm'), ('m', ' ', 'I'), (' ', 'S', 'a'), ('m', ' ', 'S')}\n"
          ]
        }
      ]
    },
    {
      "cell_type": "markdown",
      "source": [
        "k= 4 character shingles for d1 U d2: U is union"
      ],
      "metadata": {
        "id": "gIAtyKED60hV"
      }
    },
    {
      "cell_type": "code",
      "source": [
        "ngrams_d1 = set(nltk.ngrams(D1,4))\n",
        "ngrams_d2 = set(nltk.ngrams(D2,4))\n",
        "\n",
        "res = ngrams_d1.union(ngrams_d2)\n",
        "\n",
        "print(res)"
      ],
      "metadata": {
        "colab": {
          "base_uri": "https://localhost:8080/"
        },
        "id": "5jOKdVgZ6vsx",
        "outputId": "41d2b2b9-ed5a-4a1b-eec3-b42a89e3cc02"
      },
      "execution_count": 10,
      "outputs": [
        {
          "output_type": "stream",
          "name": "stdout",
          "text": [
            "{('S', 'a', 'm', ' '), ('m', ' ', 'S', 'a'), ('m', ' ', 'I', ' '), ('a', 'm', ' ', 'S'), ('a', 'm', ' ', 'I'), ('I', ' ', 'a', 'm'), (' ', 'a', 'm', ' '), (' ', 'I', ' ', 'a'), (' ', 'S', 'a', 'm')}\n"
          ]
        }
      ]
    }
  ]
}