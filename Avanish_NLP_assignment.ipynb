{
 "cells": [
  {
   "cell_type": "code",
   "execution_count": 4,
   "id": "216f674b",
   "metadata": {},
   "outputs": [
    {
     "data": {
      "text/html": [
       "<style>\n",
       "    @import 'https://fonts.googleapis.com/css?family=Akronim&effect=3d-float';</style>\n",
       "    <h1 class='font-effect-3d-float' style='font-family:Akronim; color:#eb3434; font-size:30px;'>Avanish Singh</h1>"
      ],
      "text/plain": [
       "<IPython.core.display.HTML object>"
      ]
     },
     "metadata": {},
     "output_type": "display_data"
    },
    {
     "data": {
      "text/html": [
       "<style>\n",
       "    @import 'https://fonts.googleapis.com/css?family=Akronim&effect=3d-float';</style>\n",
       "    <h1 class='font-effect-3d-float' style='font-family:Akronim; color:#eb3434; font-size:30px;'>191550022</h1>"
      ],
      "text/plain": [
       "<IPython.core.display.HTML object>"
      ]
     },
     "metadata": {},
     "output_type": "display_data"
    }
   ],
   "source": [
    "dhtml(\"Avanish Singh\")\n",
    "dhtml(\"191550022\")"
   ]
  },
  {
   "cell_type": "code",
   "execution_count": 5,
   "id": "2933d027",
   "metadata": {},
   "outputs": [],
   "source": [
    "q = \"new new times\"\n",
    "d1 = \"new york times\"\n",
    "d2 = \"new york post\"\n",
    "d3 = \"los angeles times\""
   ]
  },
  {
   "cell_type": "code",
   "execution_count": 6,
   "id": "c319a375",
   "metadata": {},
   "outputs": [],
   "source": [
    "def jaccard(Query, Statement):\n",
    "    words_doc1 = set(Query.lower().split())\n",
    "    words_doc2 = set(Statement.lower().split())\n",
    "    intersection = words_doc1.intersection(words_doc2)\n",
    "    union = words_doc1.union(words_doc2)\n",
    "    return float(len(intersection)) / len(union)"
   ]
  },
  {
   "cell_type": "code",
   "execution_count": 7,
   "id": "4ed90906",
   "metadata": {},
   "outputs": [
    {
     "data": {
      "text/plain": [
       "0.6666666666666666"
      ]
     },
     "execution_count": 7,
     "metadata": {},
     "output_type": "execute_result"
    }
   ],
   "source": [
    "jaccard(q, d1)"
   ]
  },
  {
   "cell_type": "code",
   "execution_count": 8,
   "id": "2b13c1a7",
   "metadata": {},
   "outputs": [
    {
     "data": {
      "text/plain": [
       "0.25"
      ]
     },
     "execution_count": 8,
     "metadata": {},
     "output_type": "execute_result"
    }
   ],
   "source": [
    "jaccard(q, d2)"
   ]
  },
  {
   "cell_type": "code",
   "execution_count": 9,
   "id": "b1e7cc9b",
   "metadata": {},
   "outputs": [
    {
     "data": {
      "text/plain": [
       "0.25"
      ]
     },
     "execution_count": 9,
     "metadata": {},
     "output_type": "execute_result"
    }
   ],
   "source": [
    "jaccard(q, d3)"
   ]
  },
  {
   "cell_type": "code",
   "execution_count": 11,
   "id": "779ac8d1",
   "metadata": {},
   "outputs": [],
   "source": [
    "import nltk\n",
    "from nltk.corpus import stopwords\n",
    "from nltk.tokenize import word_tokenize"
   ]
  },
  {
   "cell_type": "code",
   "execution_count": 12,
   "id": "0744eae1",
   "metadata": {},
   "outputs": [],
   "source": [
    "def cos_sim(Query, Statement):\n",
    "    X_list = word_tokenize(Query)\n",
    "    Y_list = word_tokenize(Statement)\n",
    "    sw = stopwords.words('english')\n",
    "    l1 =[];l2 =[]\n",
    "    X_set = {w for w in X_list if not w in sw}\n",
    "    Y_set = {w for w in Y_list if not w in sw}\n",
    "    rvector = X_set.union(Y_set)\n",
    "    for w in rvector:\n",
    "        if w in X_set: l1.append(1)\n",
    "        else: l1.append(0)\n",
    "        if w in Y_set: l2.append(1)\n",
    "        else: l2.append(0)\n",
    "    c = 0\n",
    "    for i in range(len(rvector)):\n",
    "        c+= l1[i]*l2[i]\n",
    "        cosine = c / float((sum(l1)*sum(l2))**0.5)\n",
    "    return cosine"
   ]
  },
  {
   "cell_type": "code",
   "execution_count": 13,
   "id": "6db9f9a1",
   "metadata": {},
   "outputs": [
    {
     "data": {
      "text/plain": [
       "0.8164965809277261"
      ]
     },
     "execution_count": 13,
     "metadata": {},
     "output_type": "execute_result"
    }
   ],
   "source": [
    "cos_sim(q, d1)"
   ]
  },
  {
   "cell_type": "code",
   "execution_count": 14,
   "id": "c5b4ab89",
   "metadata": {},
   "outputs": [
    {
     "data": {
      "text/plain": [
       "0.4082482904638631"
      ]
     },
     "execution_count": 14,
     "metadata": {},
     "output_type": "execute_result"
    }
   ],
   "source": [
    "cos_sim(q, d2)"
   ]
  },
  {
   "cell_type": "code",
   "execution_count": 15,
   "id": "57bbf879",
   "metadata": {},
   "outputs": [
    {
     "data": {
      "text/plain": [
       "0.4082482904638631"
      ]
     },
     "execution_count": 15,
     "metadata": {},
     "output_type": "execute_result"
    }
   ],
   "source": [
    "cos_sim(q, d3)"
   ]
  },
  {
   "cell_type": "code",
   "execution_count": null,
   "id": "7a6a0e80",
   "metadata": {},
   "outputs": [],
   "source": []
  }
 ],
 "metadata": {
  "kernelspec": {
   "display_name": "Python 3",
   "language": "python",
   "name": "python3"
  },
  "language_info": {
   "codemirror_mode": {
    "name": "ipython",
    "version": 3
   },
   "file_extension": ".py",
   "mimetype": "text/x-python",
   "name": "python",
   "nbconvert_exporter": "python",
   "pygments_lexer": "ipython3",
   "version": "3.8.8"
  }
 },
 "nbformat": 4,
 "nbformat_minor": 5
}
