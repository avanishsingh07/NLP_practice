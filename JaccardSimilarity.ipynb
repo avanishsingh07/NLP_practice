{
  "nbformat": 4,
  "nbformat_minor": 0,
  "metadata": {
    "colab": {
      "name": "JaccardSimilarity.ipynb",
      "provenance": [],
      "collapsed_sections": []
    },
    "kernelspec": {
      "name": "python3",
      "display_name": "Python 3"
    },
    "language_info": {
      "name": "python"
    }
  },
  "cells": [
    {
      "cell_type": "code",
      "execution_count": null,
      "metadata": {
        "id": "S-qStHqG4wRp"
      },
      "outputs": [],
      "source": [
        "a = [0,1,2,5,6]\n",
        "b = [0,2,3,5,7,9]"
      ]
    },
    {
      "cell_type": "code",
      "source": [
        "inter = set(a).intersection(set(b))\n",
        "print(inter)"
      ],
      "metadata": {
        "colab": {
          "base_uri": "https://localhost:8080/"
        },
        "id": "tvdhZL2v477S",
        "outputId": "2491dd1e-01bf-478e-e0e6-fe8baa755dbb"
      },
      "execution_count": null,
      "outputs": [
        {
          "output_type": "stream",
          "name": "stdout",
          "text": [
            "{0, 2, 5}\n"
          ]
        }
      ]
    },
    {
      "cell_type": "code",
      "source": [
        "union = set(a).union(set(b))\n",
        "print(union)"
      ],
      "metadata": {
        "colab": {
          "base_uri": "https://localhost:8080/"
        },
        "id": "6s58-US-5EAM",
        "outputId": "733cfc09-1a95-457b-da9b-e99ded61b3db"
      },
      "execution_count": null,
      "outputs": [
        {
          "output_type": "stream",
          "name": "stdout",
          "text": [
            "{0, 1, 2, 3, 5, 6, 7, 9}\n"
          ]
        }
      ]
    },
    {
      "cell_type": "code",
      "source": [
        "sim = len(inter)/len(union)"
      ],
      "metadata": {
        "id": "11Lq2YNb5GlA"
      },
      "execution_count": null,
      "outputs": []
    },
    {
      "cell_type": "code",
      "source": [
        "print(sim)"
      ],
      "metadata": {
        "colab": {
          "base_uri": "https://localhost:8080/"
        },
        "id": "t7-d09g_6Br2",
        "outputId": "5936b47c-5d45-4a8a-ace0-d48e817f7d23"
      },
      "execution_count": null,
      "outputs": [
        {
          "output_type": "stream",
          "name": "stdout",
          "text": [
            "0.375\n"
          ]
        }
      ]
    },
    {
      "cell_type": "code",
      "source": [
        "a = [0,1,2,5,6,3]\n",
        "b = [0,2,3,5,7,9]"
      ],
      "metadata": {
        "id": "EpI7O8v16Foi"
      },
      "execution_count": null,
      "outputs": []
    },
    {
      "cell_type": "code",
      "source": [
        "import math\n",
        "up = 0\n",
        "for i in range(len(a)):\n",
        "  up = up + (a[i]*b[i])\n",
        "print(up)\n",
        "first = 0\n",
        "for i in range(len(a)):\n",
        "  first = first+(a[i]*a[i])\n",
        "first = math.sqrt(first)\n",
        "print(first)\n",
        "second = 0\n",
        "for i in range(len(b)):\n",
        "  second = second+(b[i]*b[i])\n",
        "second = math.sqrt(second)\n",
        "print(second)\n",
        "cos = up/(first*second)\n",
        "print(cos)"
      ],
      "metadata": {
        "colab": {
          "base_uri": "https://localhost:8080/"
        },
        "id": "Uiz28T8u6J8v",
        "outputId": "e5dc93c9-74de-4c34-f5fe-0949fa9aa255"
      },
      "execution_count": null,
      "outputs": [
        {
          "output_type": "stream",
          "name": "stdout",
          "text": [
            "102\n",
            "8.660254037844387\n",
            "12.96148139681572\n",
            "0.9086882225022429\n"
          ]
        }
      ]
    }
  ]
}